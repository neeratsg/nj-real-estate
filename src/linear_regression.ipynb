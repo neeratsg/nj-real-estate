{
 "cells": [
  {
   "cell_type": "markdown",
   "id": "50d05c00",
   "metadata": {},
   "source": [
    "## Import Libraries"
   ]
  },
  {
   "cell_type": "code",
   "execution_count": 1,
   "id": "cb35c9fd",
   "metadata": {},
   "outputs": [],
   "source": [
    "# For dataframe\n",
    "import pandas as pd\n",
    "# For numpy operations\n",
    "import numpy as np\n",
    "# For linear regression\n",
    "import statsmodels.api as sm\n",
    "#For chart\n",
    "import matplotlib.pyplot as plt"
   ]
  },
  {
   "cell_type": "markdown",
   "id": "2ca637f9",
   "metadata": {},
   "source": [
    "### Read CSV"
   ]
  },
  {
   "cell_type": "code",
   "execution_count": 2,
   "id": "03da8e52",
   "metadata": {},
   "outputs": [],
   "source": [
    "data_df = pd.read_csv(\"realtor_data_cleaned.csv\", index_col='index')"
   ]
  },
  {
   "cell_type": "markdown",
   "id": "01a3d265",
   "metadata": {},
   "source": [
    "### Define a function for regression"
   ]
  },
  {
   "cell_type": "code",
   "execution_count": 3,
   "id": "dc059d60",
   "metadata": {},
   "outputs": [],
   "source": [
    "# Defines a function to perform linear regression and returns the model\n",
    "# Input to the function is a dataframe df\n",
    "def perform_linear_regression(df):\n",
    "    independent_variable_names = [\"sqft_lot\", \"house_size\", \"bed\"]\n",
    "    \n",
    "    # Adds a constant for intercept and creates a list with all the columns for independent variables\n",
    "    independent_variables = sm.add_constant(df[independent_variable_names])\n",
    "    \n",
    "    # Puts the dependent variable in a list\n",
    "    dependent_variable = df[[\"inf_price\"]]\n",
    "    # creates the linear regression model\n",
    "    regression_model = sm.OLS(dependent_variable,independent_variables).fit() \n",
    "    \n",
    "    # Get R-squared value, root mean square value that shows how good the model is\n",
    "    # round to three decimal digits and print, convert to string before print\n",
    "    print(\"R-Squared Value: \" + str(round(regression_model.rsquared, 3)))\n",
    "\n",
    "    # Get the coefficients, ina line y=m1*x1+m2*x2+b, b is the intercept, m1,m2... are the coefficients.\n",
    "    # x1..xn are the independent variables and y is the dependent variable\n",
    "    # first element in array is intercept      \n",
    "    intercept = regression_model.params[0]\n",
    "     # elements from 1 to n are coefficients\n",
    "    coefficients = regression_model.params[1:]\n",
    "\n",
    "    # Construct the equation\n",
    "    # add the y = b + part\n",
    "    equation = \"Price = \" + str(round(intercept, 2))\n",
    "    # go over each independent variable, we also need the index, hence enumerate because we need to get coefficients[i]\n",
    "    # coefficients[i] gives the value and coeff variable will give the name of the variable, like(house_size etc)\n",
    "    for i, coeff in enumerate(coefficients):\n",
    "        # add the m1*x1, m2*x2 etc to the equation.\n",
    "        equation = equation + \" + \" + str(round(coeff, 2)) + \" * \" + independent_variable_names[i]\n",
    "\n",
    "    # Print the results\n",
    "    print(f\"Equation: {equation}\")\n",
    "    return regression_model\n",
    "    # return to caller so that caller can call the model with various values"
   ]
  },
  {
   "cell_type": "markdown",
   "id": "bdca9d3f",
   "metadata": {},
   "source": [
    "### Filter data by cities and find where house_size is not null because that means it is a home sale"
   ]
  },
  {
   "cell_type": "code",
   "execution_count": 4,
   "id": "b692bcc3",
   "metadata": {},
   "outputs": [],
   "source": [
    "### We know from Tableau that the cities we care are\n",
    "# OceanCity, Brigantine, Paramus, Montclair, Westfield and we only care about houses\n",
    "cities_to_filter = [\"OceanCity\", \"Brigantine\", \"Paramus\", \"Montclair\", \"Westfield\"]\n",
    "data_df = data_df[data_df[\"city\"].isin(cities_to_filter)]\n",
    "# Filter data by cities and find where house_size is not null because house size not null means it is a home sale\n",
    "data_df = data_df[data_df[\"house_size\"].notna()]\n",
    "data_df = data_df[data_df[\"bed\"].notna()]"
   ]
  },
  {
   "cell_type": "markdown",
   "id": "7a2cb33f",
   "metadata": {},
   "source": [
    "### Run the model for overall  data and for data across all cities"
   ]
  },
  {
   "cell_type": "code",
   "execution_count": 5,
   "id": "5b8aed0c",
   "metadata": {},
   "outputs": [
    {
     "name": "stdout",
     "output_type": "stream",
     "text": [
      "Overall Regression\n",
      "R-Squared Value: 0.543\n",
      "Equation: Price = -115419.49 + 3.88 * sqft_lot + 187.83 * house_size + 156120.52 * bed\n"
     ]
    }
   ],
   "source": [
    "# We want to see how prediction works at each city level and at the overall model level\n",
    "print(\"Overall Regression\")\n",
    "\n",
    "# empty data frame to store the rsquare values to plot a graph\n",
    "rsquare_dataframe = pd.DataFrame(columns=['City', 'RSquared'])\n",
    "# Call the function for overall df\n",
    "model = perform_linear_regression(data_df)\n",
    "# Create a dictionary with city and Rsquared values and then append it to the dataframe to create a new row\n",
    "new_row = {'City': 'Overall', 'RSquared': round(model.rsquared, 3)}\n",
    "# Concat the new row\n",
    "#rsquare_dataframe.append(new_row, ignore_index=True) throw a warning\n",
    "rsquare_dataframe = pd.concat([rsquare_dataframe, pd.DataFrame(new_row, index=[0])], ignore_index=True)"
   ]
  },
  {
   "cell_type": "code",
   "execution_count": 6,
   "id": "b12bb426",
   "metadata": {},
   "outputs": [
    {
     "name": "stdout",
     "output_type": "stream",
     "text": [
      "\n",
      "\n",
      "Regression Statistics for OceanCity\n",
      "R-Squared Value: 0.647\n",
      "Equation: Price = -339845.49 + 80.01 * sqft_lot + 236.05 * house_size + 164728.28 * bed\n",
      "\n",
      "\n",
      "Regression Statistics for Brigantine\n",
      "R-Squared Value: 0.451\n",
      "Equation: Price = 263965.17 + -5.1 * sqft_lot + 304.11 * house_size + -9128.05 * bed\n",
      "\n",
      "\n",
      "Regression Statistics for Paramus\n",
      "R-Squared Value: 0.576\n",
      "Equation: Price = -103031.58 + 0.82 * sqft_lot + 137.64 * house_size + 176773.42 * bed\n",
      "\n",
      "\n",
      "Regression Statistics for Montclair\n",
      "R-Squared Value: 0.543\n",
      "Equation: Price = -56817.09 + 18.32 * sqft_lot + 84.35 * house_size + 147043.52 * bed\n",
      "\n",
      "\n",
      "Regression Statistics for Westfield\n",
      "R-Squared Value: 0.652\n",
      "Equation: Price = -322380.46 + 22.23 * sqft_lot + 254.32 * house_size + 131908.91 * bed\n"
     ]
    }
   ],
   "source": [
    "### Run the model for each city and calculate required ranges\n",
    "# we need to calculate price for 3,4 and 5 bedroom houses\n",
    "# these are all lists\n",
    "# go over each city, find the model and do the calculation for home price\n",
    "for city in cities_to_filter:\n",
    "    city_df = data_df[data_df['city'] == city]\n",
    "    print(\"\\n\\nRegression Statistics for \"+city)\n",
    "    city_model = perform_linear_regression(city_df)\n",
    "    new_row = {'City': city, 'RSquared': round(city_model.rsquared, 3)}\n",
    "    rsquare_dataframe = pd.concat([rsquare_dataframe, pd.DataFrame(new_row, index=[0])], ignore_index=True)\n",
    "rsquare_dataframe = rsquare_dataframe.sort_values(by='RSquared')\n"
   ]
  },
  {
   "cell_type": "markdown",
   "id": "6936a2d5",
   "metadata": {},
   "source": [
    "### Plot a graph with RSquared in Y axis and City in X axis"
   ]
  },
  {
   "cell_type": "code",
   "execution_count": 7,
   "id": "22f75b81",
   "metadata": {},
   "outputs": [
    {
     "data": {
      "image/png": "[encoded data removed]",
      "text/plain": [
       "<Figure size 640x480 with 1 Axes>"
      ]
     },
     "metadata": {},
     "output_type": "display_data"
    }
   ],
   "source": [
    "# Type of chart is bar and the values are city and rsquared from the data frame\n",
    "bars = plt.bar(rsquare_dataframe['City'], rsquare_dataframe['RSquared'], color='blue')\n",
    "\n",
    "# Title of the chart\n",
    "plt.title('Bar Chart of City vs. RSquared')\n",
    "plt.xlabel('City')\n",
    "plt.ylabel('RSquared')\n",
    "ax = plt.gca()\n",
    "ax.bar_label(bars)\n",
    "\n",
    "plt.show()"
   ]
  }
 ],
 "metadata": {
  "kernelspec": {
   "display_name": "Python 3 (ipykernel)",
   "language": "python",
   "name": "python3"
  },
  "language_info": {
   "codemirror_mode": {
    "name": "ipython",
    "version": 3
   },
   "file_extension": ".py",
   "mimetype": "text/x-python",
   "name": "python",
   "nbconvert_exporter": "python",
   "pygments_lexer": "ipython3",
   "version": "3.10.9"
  }
 },
 "nbformat": 4,
 "nbformat_minor": 5
}
